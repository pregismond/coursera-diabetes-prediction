{
  "cells": [
    {
      "cell_type": "markdown",
      "metadata": {
        "id": "W4BkDKTHCEPR"
      },
      "source": [
        "# Diabetes Prediction using PySpark MLlib\n",
        "\n",
        "In this project, we will build a logistic regression model to classify between diabetic and the non-diabetic patients. After training the model, we assess its performance using relevant metrics to gauge accuracy and effectiveness. The model is saved for future use, ensuring it can be retrieved and deployed in real-world applications to make predictions on new data.\n",
        "\n",
        "This project has four parts:\n",
        "\n",
        "- Part 1 - Perform ETL Activity\n",
        "  - Load a csv dataset\n",
        "  - Check for null values in each column\n",
        "  - Replace zero values with mean of the column\n",
        "  - Store the cleaned data in parquet format\n",
        "- Part 2 - Build a Logistic Regression Classifier\n",
        "  - Correlation analysis among the input and the output variables\n",
        "  - Selection of the input features\n",
        "  - Split the data into training and test sets\n",
        "  - Build and train the Logistic Regression Model\n",
        "- Part 3 - Evaluate the Model\n",
        "  - Evaluate the model using relevant metrics\n",
        "- Part 4 - Persist the Model\n",
        "  - Save the model for future production use\n",
        "  - Load and verify the stored model"
      ]
    },
    {
      "cell_type": "markdown",
      "metadata": {
        "id": "rmUxGPZ_CEPT"
      },
      "source": [
        "### Preliminaries: Installing libraries and downloading data\n",
        "\n",
        "Install the required libraries"
      ]
    },
    {
      "cell_type": "code",
      "execution_count": 1,
      "metadata": {
        "colab": {
          "base_uri": "https://localhost:8080/"
        },
        "id": "ahVDG2igCEPT",
        "outputId": "ab729c7e-72dc-422d-9411-68f35c5ecee7"
      },
      "outputs": [
        {
          "output_type": "stream",
          "name": "stdout",
          "text": [
            "Collecting pyspark\n",
            "  Downloading pyspark-3.5.1.tar.gz (317.0 MB)\n",
            "\u001b[2K     \u001b[90m━━━━━━━━━━━━━━━━━━━━━━━━━━━━━━━━━━━━━━━━\u001b[0m \u001b[32m317.0/317.0 MB\u001b[0m \u001b[31m4.0 MB/s\u001b[0m eta \u001b[36m0:00:00\u001b[0m\n",
            "\u001b[?25h  Preparing metadata (setup.py) ... \u001b[?25l\u001b[?25hdone\n",
            "Requirement already satisfied: py4j==0.10.9.7 in /usr/local/lib/python3.10/dist-packages (from pyspark) (0.10.9.7)\n",
            "Building wheels for collected packages: pyspark\n",
            "  Building wheel for pyspark (setup.py) ... \u001b[?25l\u001b[?25hdone\n",
            "  Created wheel for pyspark: filename=pyspark-3.5.1-py2.py3-none-any.whl size=317488490 sha256=d9d38a744d5b6d28d3a5ed62dc1a354946c7fedd4e43fd66009c071b240e3f7c\n",
            "  Stored in directory: /root/.cache/pip/wheels/80/1d/60/2c256ed38dddce2fdd93be545214a63e02fbd8d74fb0b7f3a6\n",
            "Successfully built pyspark\n",
            "Installing collected packages: pyspark\n",
            "Successfully installed pyspark-3.5.1\n",
            "Collecting findspark\n",
            "  Downloading findspark-2.0.1-py2.py3-none-any.whl.metadata (352 bytes)\n",
            "Downloading findspark-2.0.1-py2.py3-none-any.whl (4.4 kB)\n",
            "Installing collected packages: findspark\n",
            "Successfully installed findspark-2.0.1\n"
          ]
        }
      ],
      "source": [
        "! pip install pyspark\n",
        "! pip install findspark"
      ]
    },
    {
      "cell_type": "markdown",
      "metadata": {
        "id": "5wUWCfoTCEPU"
      },
      "source": [
        "Clone the required dataset from GitHub"
      ]
    },
    {
      "cell_type": "code",
      "execution_count": 2,
      "metadata": {
        "colab": {
          "base_uri": "https://localhost:8080/"
        },
        "id": "K4WwoqdSCEPU",
        "outputId": "5c3d09db-0f8a-41f3-e594-8c215dfa6e6f"
      },
      "outputs": [
        {
          "output_type": "stream",
          "name": "stdout",
          "text": [
            "Cloning into 'diabetes_dataset'...\n",
            "remote: Enumerating objects: 6, done.\u001b[K\n",
            "remote: Counting objects: 100% (6/6), done.\u001b[K\n",
            "remote: Compressing objects: 100% (5/5), done.\u001b[K\n",
            "remote: Total 6 (delta 0), reused 0 (delta 0), pack-reused 0\u001b[K\n",
            "Receiving objects: 100% (6/6), 13.02 KiB | 13.02 MiB/s, done.\n"
          ]
        }
      ],
      "source": [
        "! git clone https://github.com/pregismond/diabetes_dataset"
      ]
    },
    {
      "cell_type": "markdown",
      "metadata": {
        "id": "0vUVf988CEPU"
      },
      "source": [
        "Check if dataset exists"
      ]
    },
    {
      "cell_type": "code",
      "execution_count": 3,
      "metadata": {
        "colab": {
          "base_uri": "https://localhost:8080/"
        },
        "id": "XJu5Q2aECEPV",
        "outputId": "2d689024-c3ab-4c33-d637-9f15e4f745e6"
      },
      "outputs": [
        {
          "output_type": "stream",
          "name": "stdout",
          "text": [
            "diabetes.csv  new_test.csv\n"
          ]
        }
      ],
      "source": [
        "! ls diabetes_dataset"
      ]
    },
    {
      "cell_type": "markdown",
      "metadata": {
        "id": "YMJnIqu7CEPV"
      },
      "source": [
        "### Importing Libraries\n",
        "\n",
        "Importing the required libraries"
      ]
    },
    {
      "cell_type": "code",
      "execution_count": 4,
      "metadata": {
        "id": "mg4SggMaCEPV"
      },
      "outputs": [],
      "source": [
        "import os\n",
        "import findspark\n",
        "import warnings\n",
        "\n",
        "def warn(*args, **kwargs):\n",
        "    pass\n",
        "\n",
        "# Suppress generated warnings\n",
        "warnings.warn = warn\n",
        "warnings.filterwarnings(\"ignore\")\n",
        "\n",
        "findspark.init()\n",
        "\n",
        "# import functions/Classes for sparkml\n",
        "from pyspark.sql import SparkSession\n",
        "from pyspark.ml.feature import VectorAssembler\n",
        "from pyspark.sql.functions import col, filter, mean, when\n",
        "from pyspark.ml.classification import LogisticRegression\n",
        "from pyspark.ml.classification import LogisticRegressionModel\n",
        "\n",
        "# import functions/Classes for metrics\n",
        "from pyspark.ml.evaluation import BinaryClassificationEvaluator"
      ]
    },
    {
      "cell_type": "markdown",
      "metadata": {
        "id": "vgf1BU-uCEPV"
      },
      "source": [
        "### Create a spark session\n",
        "\n",
        "Ignore any warnings by SparkSession command"
      ]
    },
    {
      "cell_type": "code",
      "execution_count": 5,
      "metadata": {
        "id": "2Eauux7uCEPV"
      },
      "outputs": [],
      "source": [
        "spark = SparkSession \\\n",
        "    .builder \\\n",
        "    .appName(\"Diabetes Prediction\") \\\n",
        "    .getOrCreate()"
      ]
    },
    {
      "cell_type": "markdown",
      "metadata": {
        "id": "5sG3MLXlOews"
      },
      "source": [
        "## Tasks"
      ]
    },
    {
      "cell_type": "markdown",
      "metadata": {
        "id": "W81O8aKICEPW"
      },
      "source": [
        "### Part 1 - Perform ETL Activity"
      ]
    },
    {
      "cell_type": "markdown",
      "metadata": {
        "id": "REWRj6C7CEPW"
      },
      "source": [
        "Our initial step involves reading the CSV file named `diabetes.csv` into a Spark DataFrame called `diabetes_df`.\n",
        "\n",
        "Load a csv dataset\n",
        "\n",
        "* Using the `spark.read.csv` function we load the data into a dataframe\n",
        "* The `header=True` indicates that there is a header row in our csv file\n",
        "* The `inferSchema=True` tells spark to automatically determine the data types of the columns"
      ]
    },
    {
      "cell_type": "code",
      "execution_count": 6,
      "metadata": {
        "id": "ST1rFFOlOu8s"
      },
      "outputs": [],
      "source": [
        "diabetes_df = spark.read.csv(\"./diabetes_dataset/diabetes.csv\", header=True, inferSchema=True)"
      ]
    },
    {
      "cell_type": "markdown",
      "metadata": {
        "id": "2socfsWlCEPW"
      },
      "source": [
        "We then display the structure of the `diabetes_df` DataFrame, including details about all columns and their associated data types."
      ]
    },
    {
      "cell_type": "code",
      "execution_count": 7,
      "metadata": {
        "colab": {
          "base_uri": "https://localhost:8080/"
        },
        "id": "pBQJorB6CEPW",
        "outputId": "a356dc65-8e5d-4911-9c6c-c805c49d417b"
      },
      "outputs": [
        {
          "output_type": "stream",
          "name": "stdout",
          "text": [
            "root\n",
            " |-- Pregnancies: integer (nullable = true)\n",
            " |-- Glucose: integer (nullable = true)\n",
            " |-- BloodPressure: integer (nullable = true)\n",
            " |-- SkinThickness: integer (nullable = true)\n",
            " |-- Insulin: integer (nullable = true)\n",
            " |-- BMI: double (nullable = true)\n",
            " |-- DiabetesPedigreeFunction: double (nullable = true)\n",
            " |-- Age: integer (nullable = true)\n",
            " |-- Outcome: integer (nullable = true)\n",
            "\n"
          ]
        }
      ],
      "source": [
        "diabetes_df.printSchema()"
      ]
    },
    {
      "cell_type": "markdown",
      "metadata": {
        "id": "UTyB6LAqCEPW"
      },
      "source": [
        "Show top 5 rows from the dataset"
      ]
    },
    {
      "cell_type": "code",
      "execution_count": 8,
      "metadata": {
        "colab": {
          "base_uri": "https://localhost:8080/"
        },
        "id": "CW_UlNN4CEPW",
        "outputId": "8e759f35-9f30-4407-bc93-ffc1f26fddfe"
      },
      "outputs": [
        {
          "output_type": "stream",
          "name": "stdout",
          "text": [
            "+-----------+-------+-------------+-------------+-------+----+------------------------+---+-------+\n",
            "|Pregnancies|Glucose|BloodPressure|SkinThickness|Insulin| BMI|DiabetesPedigreeFunction|Age|Outcome|\n",
            "+-----------+-------+-------------+-------------+-------+----+------------------------+---+-------+\n",
            "|          2|    138|           62|           35|      0|33.6|                   0.127| 47|      1|\n",
            "|          0|     84|           82|           31|    125|38.2|                   0.233| 23|      0|\n",
            "|          0|    145|            0|            0|      0|44.2|                    0.63| 31|      1|\n",
            "|          0|    135|           68|           42|    250|42.3|                   0.365| 24|      1|\n",
            "|          1|    139|           62|           41|    480|40.7|                   0.536| 21|      0|\n",
            "+-----------+-------+-------------+-------------+-------+----+------------------------+---+-------+\n",
            "only showing top 5 rows\n",
            "\n"
          ]
        }
      ],
      "source": [
        "diabetes_df.show(5)"
      ]
    },
    {
      "cell_type": "markdown",
      "metadata": {
        "id": "J9RWn67fCEPX"
      },
      "source": [
        "Show the dimensions of the dataframe (rows, columns)"
      ]
    },
    {
      "cell_type": "code",
      "execution_count": 9,
      "metadata": {
        "colab": {
          "base_uri": "https://localhost:8080/"
        },
        "id": "O7XI9glZCEPX",
        "outputId": "72ef1805-3dd2-4b79-eff6-3db5bfbcf300"
      },
      "outputs": [
        {
          "output_type": "stream",
          "name": "stdout",
          "text": [
            "(2000, 9)\n"
          ]
        }
      ],
      "source": [
        "print((diabetes_df.count(), len(diabetes_df.columns)))"
      ]
    },
    {
      "cell_type": "markdown",
      "metadata": {
        "id": "3nT4105aCEPX"
      },
      "source": [
        "Print the value counts for the column `Outcome`"
      ]
    },
    {
      "cell_type": "code",
      "execution_count": 10,
      "metadata": {
        "colab": {
          "base_uri": "https://localhost:8080/"
        },
        "id": "kpZlF2S2Ovgw",
        "outputId": "88385343-a674-4928-ccfd-a5efd2a4b8f2"
      },
      "outputs": [
        {
          "output_type": "stream",
          "name": "stdout",
          "text": [
            "+-------+-----+\n",
            "|Outcome|Count|\n",
            "+-------+-----+\n",
            "|      0| 1316|\n",
            "|      1|  684|\n",
            "+-------+-----+\n",
            "\n"
          ]
        }
      ],
      "source": [
        "diabetes_df.groupBy(\"Outcome\") \\\n",
        "    .count().withColumnRenamed(\"count\", \"Count\") \\\n",
        "    .sort(\"Count\", ascending=False) \\\n",
        "    .show()"
      ]
    },
    {
      "cell_type": "markdown",
      "metadata": {
        "id": "bxwSKFs-CEPX"
      },
      "source": [
        "The `Outcome` column consists of two classes, each indicating whether a patient has diabetes or not:\n",
        "\n",
        "* **0**: the patient does not have diabetes\n",
        "* **1**: the patient has diabetes"
      ]
    },
    {
      "cell_type": "markdown",
      "metadata": {
        "id": "18I2C_k3CEPX"
      },
      "source": [
        "We can generate descriptive statistics to view some basic statistical details like count, mean, standard deviation, etc."
      ]
    },
    {
      "cell_type": "code",
      "execution_count": 11,
      "metadata": {
        "colab": {
          "base_uri": "https://localhost:8080/"
        },
        "id": "NewCNZEMOvtM",
        "outputId": "3ffd479f-c524-4045-d5eb-d7d50fa7f0ff"
      },
      "outputs": [
        {
          "output_type": "stream",
          "name": "stdout",
          "text": [
            "+-------+-----------------+------------------+------------------+-----------------+-----------------+------------------+------------------------+------------------+------------------+\n",
            "|summary|      Pregnancies|           Glucose|     BloodPressure|    SkinThickness|          Insulin|               BMI|DiabetesPedigreeFunction|               Age|           Outcome|\n",
            "+-------+-----------------+------------------+------------------+-----------------+-----------------+------------------+------------------------+------------------+------------------+\n",
            "|  count|             2000|              2000|              2000|             2000|             2000|              2000|                    2000|              2000|              2000|\n",
            "|   mean|           3.7035|          121.1825|           69.1455|           20.935|           80.254|32.192999999999984|     0.47092999999999974|           33.0905|             0.342|\n",
            "| stddev|3.306063032730656|32.068635649902916|19.188314815604098|16.10324290992682|111.1805335457595| 8.149900701279762|      0.3235525586811429|11.786423106049496|0.4744982342297426|\n",
            "|    min|                0|                 0|                 0|                0|                0|               0.0|                   0.078|                21|                 0|\n",
            "|    max|               17|               199|               122|              110|              744|              80.6|                    2.42|                81|                 1|\n",
            "+-------+-----------------+------------------+------------------+-----------------+-----------------+------------------+------------------------+------------------+------------------+\n",
            "\n"
          ]
        }
      ],
      "source": [
        "diabetes_df.describe().show()"
      ]
    },
    {
      "cell_type": "markdown",
      "metadata": {
        "id": "avpsjf1wCEPX"
      },
      "source": [
        "As we can see above, the minimum values for the `Glucose`, `BloodPressure`, `SkinThickness`, `Insulin`, and `BMI` columns are 0, which is an invalid reading. We will replace the zero values in these five columns with their respective mean values. However, before doing so, let’s check for any null or missing values in the dataframe."
      ]
    },
    {
      "cell_type": "markdown",
      "metadata": {
        "id": "H-oeEFNLCEPY"
      },
      "source": [
        "Check for null values in each column"
      ]
    },
    {
      "cell_type": "code",
      "execution_count": 12,
      "metadata": {
        "colab": {
          "base_uri": "https://localhost:8080/"
        },
        "id": "Tbd71EKSCEPY",
        "outputId": "429b20ed-7078-4a9d-e0da-fd5433c982c5"
      },
      "outputs": [
        {
          "output_type": "stream",
          "name": "stdout",
          "text": [
            "Pregnancies: 0\n",
            "Glucose: 0\n",
            "BloodPressure: 0\n",
            "SkinThickness: 0\n",
            "Insulin: 0\n",
            "BMI: 0\n",
            "DiabetesPedigreeFunction: 0\n",
            "Age: 0\n",
            "Outcome: 0\n"
          ]
        }
      ],
      "source": [
        "for column in diabetes_df.columns:\n",
        "    null_count = diabetes_df[diabetes_df[column].isNull()].count()\n",
        "    print(f\"{column}: {null_count}\")"
      ]
    },
    {
      "cell_type": "markdown",
      "metadata": {
        "id": "bJXE-H1PCEPY"
      },
      "source": [
        "As you can see, we do not have any missing values for any of the columns present in our dataframe."
      ]
    },
    {
      "cell_type": "markdown",
      "metadata": {
        "id": "eKmnejNKCEPY"
      },
      "source": [
        "Replace zero values with mean of the column\n",
        "\n",
        "* Replace zero values for the 5 columns from Glucose to BMI with their respective mean values"
      ]
    },
    {
      "cell_type": "code",
      "execution_count": 13,
      "metadata": {
        "colab": {
          "base_uri": "https://localhost:8080/"
        },
        "id": "aZMxu2BnCEPY",
        "outputId": "a5df6646-6f2b-44bf-af00-04d6e6a0c5bb"
      },
      "outputs": [
        {
          "output_type": "stream",
          "name": "stdout",
          "text": [
            "Zero values in Glucose: 13, Mean value: 121\n",
            "Zero values in BloodPressure: 90, Mean value: 69\n",
            "Zero values in SkinThickness: 573, Mean value: 20\n",
            "Zero values in Insulin: 956, Mean value: 80\n",
            "Zero values in BMI: 28, Mean value: 32\n"
          ]
        }
      ],
      "source": [
        "columns_list = [\"Glucose\", \"BloodPressure\", \"SkinThickness\", \"Insulin\", \"BMI\"]\n",
        "\n",
        "# Replace zero values with mean of the column\n",
        "for column in columns_list:\n",
        "    # Count zero values in the column\n",
        "    zero_count = diabetes_df.filter(col(column) == 0).count()\n",
        "\n",
        "    # Calculate mean value of the column and convert to integer\n",
        "    mean_value = int(diabetes_df.select(mean(col(column))).collect()[0][0])\n",
        "\n",
        "    # Replace zero values with mean value\n",
        "    print(f\"Zero values in {column}: {zero_count}, Mean value: {mean_value}\")\n",
        "    diabetes_df = diabetes_df.withColumn(column, when(col(column) == 0, mean_value).otherwise(col(column)))"
      ]
    },
    {
      "cell_type": "markdown",
      "metadata": {
        "id": "nfONeR-HCEPY"
      },
      "source": [
        "Display the dataframe contents"
      ]
    },
    {
      "cell_type": "code",
      "execution_count": 14,
      "metadata": {
        "colab": {
          "base_uri": "https://localhost:8080/"
        },
        "id": "C0bk0Ps_PFwk",
        "outputId": "19f8c14d-faa4-4635-f07b-99287f1ecc07"
      },
      "outputs": [
        {
          "output_type": "stream",
          "name": "stdout",
          "text": [
            "+-----------+-------+-------------+-------------+-------+----+------------------------+---+-------+\n",
            "|Pregnancies|Glucose|BloodPressure|SkinThickness|Insulin| BMI|DiabetesPedigreeFunction|Age|Outcome|\n",
            "+-----------+-------+-------------+-------------+-------+----+------------------------+---+-------+\n",
            "|          2|    138|           62|           35|     80|33.6|                   0.127| 47|      1|\n",
            "|          0|     84|           82|           31|    125|38.2|                   0.233| 23|      0|\n",
            "|          0|    145|           69|           20|     80|44.2|                    0.63| 31|      1|\n",
            "|          0|    135|           68|           42|    250|42.3|                   0.365| 24|      1|\n",
            "|          1|    139|           62|           41|    480|40.7|                   0.536| 21|      0|\n",
            "|          0|    173|           78|           32|    265|46.5|                   1.159| 58|      0|\n",
            "|          4|     99|           72|           17|     80|25.6|                   0.294| 28|      0|\n",
            "|          8|    194|           80|           20|     80|26.1|                   0.551| 67|      0|\n",
            "|          2|     83|           65|           28|     66|36.8|                   0.629| 24|      0|\n",
            "|          2|     89|           90|           30|     80|33.5|                   0.292| 42|      0|\n",
            "|          4|     99|           68|           38|     80|32.8|                   0.145| 33|      0|\n",
            "|          4|    125|           70|           18|    122|28.9|                   1.144| 45|      1|\n",
            "|          3|     80|           69|           20|     80|32.0|                   0.174| 22|      0|\n",
            "|          6|    166|           74|           20|     80|26.6|                   0.304| 66|      0|\n",
            "|          5|    110|           68|           20|     80|26.0|                   0.292| 30|      0|\n",
            "|          2|     81|           72|           15|     76|30.1|                   0.547| 25|      0|\n",
            "|          7|    195|           70|           33|    145|25.1|                   0.163| 55|      1|\n",
            "|          6|    154|           74|           32|    193|29.3|                   0.839| 39|      0|\n",
            "|          2|    117|           90|           19|     71|25.2|                   0.313| 21|      0|\n",
            "|          3|     84|           72|           32|     80|37.2|                   0.267| 28|      0|\n",
            "+-----------+-------+-------------+-------------+-------+----+------------------------+---+-------+\n",
            "only showing top 20 rows\n",
            "\n"
          ]
        }
      ],
      "source": [
        "diabetes_df.show()"
      ]
    },
    {
      "cell_type": "markdown",
      "metadata": {
        "id": "8DbQU4DRCEPY"
      },
      "source": [
        "Store the cleaned data in parquet format\n",
        "\n",
        "* Save the dataframe as `diabetes_cleaned.parquet`"
      ]
    },
    {
      "cell_type": "code",
      "execution_count": 15,
      "metadata": {
        "id": "dGl2CB5kCEPZ"
      },
      "outputs": [],
      "source": [
        "diabetes_df.write.mode(\"overwrite\").parquet(\"diabetes_cleaned.parquet\")"
      ]
    },
    {
      "cell_type": "markdown",
      "metadata": {
        "id": "hCNcVEUlCEPZ"
      },
      "source": [
        "Verify that the parquet file(s) are created"
      ]
    },
    {
      "cell_type": "code",
      "execution_count": 16,
      "metadata": {
        "colab": {
          "base_uri": "https://localhost:8080/"
        },
        "id": "dxGnR5rOCEPZ",
        "outputId": "13013ef8-c353-4e1b-8932-ef8e9b2ff339"
      },
      "outputs": [
        {
          "output_type": "stream",
          "name": "stdout",
          "text": [
            "total 20\n",
            "-rw-r--r-- 1 root root 18966 Aug  6 00:22 part-00000-6a85822f-23e2-4e03-83e2-06d57b21e1fb-c000.snappy.parquet\n",
            "-rw-r--r-- 1 root root     0 Aug  6 00:22 _SUCCESS\n"
          ]
        }
      ],
      "source": [
        "! ls -l diabetes_cleaned.parquet"
      ]
    },
    {
      "cell_type": "markdown",
      "metadata": {
        "id": "47oD2mCDCEPZ"
      },
      "source": [
        "### Part 2 - Build a Logistic Regression Classifier"
      ]
    },
    {
      "cell_type": "markdown",
      "metadata": {
        "id": "h3aKknrWCEPa"
      },
      "source": [
        "First, load data from \"diabetes_cleaned.parquet\" into a dataframe"
      ]
    },
    {
      "cell_type": "code",
      "execution_count": 17,
      "metadata": {
        "id": "J_6SlS4aCEPa"
      },
      "outputs": [],
      "source": [
        "diabetes_df = spark.read.parquet(\"diabetes_cleaned.parquet\")"
      ]
    },
    {
      "cell_type": "markdown",
      "metadata": {
        "id": "BCDcRCGqCEPa"
      },
      "source": [
        "Show total number of rows in the dataset"
      ]
    },
    {
      "cell_type": "code",
      "execution_count": 18,
      "metadata": {
        "colab": {
          "base_uri": "https://localhost:8080/"
        },
        "id": "de1o8XAACEPa",
        "outputId": "0818b7dd-498a-446f-8c16-3c3370c0ec79"
      },
      "outputs": [
        {
          "output_type": "stream",
          "name": "stdout",
          "text": [
            "2000\n"
          ]
        }
      ],
      "source": [
        "print(diabetes_df.count())"
      ]
    },
    {
      "cell_type": "markdown",
      "metadata": {
        "id": "SiweD-tMCEPa"
      },
      "source": [
        "Determine the correlation among the set of input and output variables\n",
        "\n",
        "* Correlation is the statistical relationship between two variables, where a change in one variable results in a change in the other.\n",
        "    * input variables are the columns from `Pregnancies` to `Age`\n",
        "    * output variable is the `Outcome` column"
      ]
    },
    {
      "cell_type": "code",
      "execution_count": 19,
      "metadata": {
        "colab": {
          "base_uri": "https://localhost:8080/"
        },
        "id": "af5jSInCCEPa",
        "outputId": "fc235756-addc-4c8c-855c-b0b077bd7185"
      },
      "outputs": [
        {
          "output_type": "stream",
          "name": "stdout",
          "text": [
            "Correlation to Outcome for Pregnancies is 0.22443699263363961\n",
            "Correlation to Outcome for Glucose is 0.48796646527321064\n",
            "Correlation to Outcome for BloodPressure is 0.17171333286446713\n",
            "Correlation to Outcome for SkinThickness is 0.1659010662889893\n",
            "Correlation to Outcome for Insulin is 0.1711763270226193\n",
            "Correlation to Outcome for BMI is 0.2827927569760082\n",
            "Correlation to Outcome for DiabetesPedigreeFunction is 0.1554590791569403\n",
            "Correlation to Outcome for Age is 0.23650924717620253\n",
            "Correlation to Outcome for Outcome is 1.0\n"
          ]
        }
      ],
      "source": [
        "for column in diabetes_df.columns:\n",
        "    print(f\"Correlation to Outcome for {column} is {diabetes_df.stat.corr('Outcome', column)}\")"
      ]
    },
    {
      "cell_type": "markdown",
      "metadata": {
        "id": "Ssuqis4QCEPb"
      },
      "source": [
        "As observed above, the Glucose column has the highest correlation value at 0.48, while all other values are below 0.4. This indicates that there are no highly correlated variables. Therefore, we will retain all the input columns as features for the model."
      ]
    },
    {
      "cell_type": "markdown",
      "metadata": {
        "id": "h8QZSfagCEPb"
      },
      "source": [
        "Define `features` selection using VectorAssembler\n",
        "\n",
        "* Assemble the input columns into a single vector column `features`\n",
        "* Use all the columns except `Outcome` as input features"
      ]
    },
    {
      "cell_type": "code",
      "execution_count": 20,
      "metadata": {
        "id": "Fl7Edj-OQACn"
      },
      "outputs": [],
      "source": [
        "assembler = VectorAssembler(\n",
        "    inputCols=[\n",
        "        \"Pregnancies\",\n",
        "        \"Glucose\",\n",
        "        \"BloodPressure\",\n",
        "        \"SkinThickness\",\n",
        "        \"Insulin\",\n",
        "        \"BMI\",\n",
        "        \"DiabetesPedigreeFunction\",\n",
        "        \"Age\"\n",
        "    ],\n",
        "    outputCol=\"features\"\n",
        ")\n",
        "\n",
        "diabetes_transformed_df = assembler.transform(diabetes_df)"
      ]
    },
    {
      "cell_type": "markdown",
      "metadata": {
        "id": "5be5gT6JCEPb"
      },
      "source": [
        "Create a new DataFrame `diabetes_final_df` using the existing `diabetes_transformed_df` DataFrame.\n",
        "* Select only the `features` and `Outcome` columns to isolate the relevant data needed for analysis."
      ]
    },
    {
      "cell_type": "code",
      "execution_count": 21,
      "metadata": {
        "id": "F89--FiVQQJn"
      },
      "outputs": [],
      "source": [
        "diabetes_final_df = diabetes_transformed_df.select(\"features\",\"Outcome\")"
      ]
    },
    {
      "cell_type": "markdown",
      "metadata": {
        "id": "9ckOcb7tCEPb"
      },
      "source": [
        "Display the structure of the `diabetes_final_df` DataFrame"
      ]
    },
    {
      "cell_type": "code",
      "execution_count": 22,
      "metadata": {
        "colab": {
          "base_uri": "https://localhost:8080/"
        },
        "id": "cKpm5912Qji_",
        "outputId": "90a5987a-8dc6-42b8-c401-701d43e4128d"
      },
      "outputs": [
        {
          "output_type": "stream",
          "name": "stdout",
          "text": [
            "root\n",
            " |-- features: vector (nullable = true)\n",
            " |-- Outcome: integer (nullable = true)\n",
            "\n"
          ]
        }
      ],
      "source": [
        "diabetes_final_df.printSchema()"
      ]
    },
    {
      "cell_type": "markdown",
      "metadata": {
        "id": "WCpym6aYCEPb"
      },
      "source": [
        "Display the dataframe contents"
      ]
    },
    {
      "cell_type": "code",
      "execution_count": 23,
      "metadata": {
        "colab": {
          "base_uri": "https://localhost:8080/"
        },
        "id": "RDeOTFCFCEPc",
        "outputId": "0bdee8ac-0a4e-4dd7-c8a3-f9a12660fb69"
      },
      "outputs": [
        {
          "output_type": "stream",
          "name": "stdout",
          "text": [
            "+--------------------+-------+\n",
            "|            features|Outcome|\n",
            "+--------------------+-------+\n",
            "|[2.0,138.0,62.0,3...|      1|\n",
            "|[0.0,84.0,82.0,31...|      0|\n",
            "|[0.0,145.0,69.0,2...|      1|\n",
            "|[0.0,135.0,68.0,4...|      1|\n",
            "|[1.0,139.0,62.0,4...|      0|\n",
            "|[0.0,173.0,78.0,3...|      0|\n",
            "|[4.0,99.0,72.0,17...|      0|\n",
            "|[8.0,194.0,80.0,2...|      0|\n",
            "|[2.0,83.0,65.0,28...|      0|\n",
            "|[2.0,89.0,90.0,30...|      0|\n",
            "|[4.0,99.0,68.0,38...|      0|\n",
            "|[4.0,125.0,70.0,1...|      1|\n",
            "|[3.0,80.0,69.0,20...|      0|\n",
            "|[6.0,166.0,74.0,2...|      0|\n",
            "|[5.0,110.0,68.0,2...|      0|\n",
            "|[2.0,81.0,72.0,15...|      0|\n",
            "|[7.0,195.0,70.0,3...|      1|\n",
            "|[6.0,154.0,74.0,3...|      0|\n",
            "|[2.0,117.0,90.0,1...|      0|\n",
            "|[3.0,84.0,72.0,32...|      0|\n",
            "+--------------------+-------+\n",
            "only showing top 20 rows\n",
            "\n"
          ]
        }
      ],
      "source": [
        "diabetes_final_df.show()"
      ]
    },
    {
      "cell_type": "markdown",
      "metadata": {
        "id": "5TWZrsy9CEPc"
      },
      "source": [
        "Split the data into training and test sets\n",
        "\n",
        "* We split the data set in the ratio of 70:30. 70% training data, 30% testing data.\n",
        "* The random_state variable `seed` controls the shuffling applied to the data before applying the split. Pass the same integer for reproducible output across multiple function calls."
      ]
    },
    {
      "cell_type": "code",
      "execution_count": 24,
      "metadata": {
        "id": "7UrCoFS1CEPc"
      },
      "outputs": [],
      "source": [
        "(trainingData, testingData) = diabetes_final_df.randomSplit([0.7, 0.3], seed=42)"
      ]
    },
    {
      "cell_type": "markdown",
      "metadata": {
        "id": "0lMdY23gCEPc"
      },
      "source": [
        "Create a logistic regression model\n",
        "\n",
        "* Logistic Regression gives the highest performance for binary classification models."
      ]
    },
    {
      "cell_type": "code",
      "execution_count": 25,
      "metadata": {
        "id": "r_Nom7aZQjuN"
      },
      "outputs": [],
      "source": [
        "lr = LogisticRegression(labelCol=\"Outcome\")\n",
        "model = lr.fit(trainingData)"
      ]
    },
    {
      "cell_type": "markdown",
      "metadata": {
        "id": "VqEUc0LNCEPc"
      },
      "source": [
        "Display a summary of the trained model, including descriptive statistics of the model's predictions"
      ]
    },
    {
      "cell_type": "code",
      "execution_count": 26,
      "metadata": {
        "colab": {
          "base_uri": "https://localhost:8080/"
        },
        "id": "OljO2HcIQj7E",
        "outputId": "0ea350fd-acff-40e0-d58b-4519a34801a0"
      },
      "outputs": [
        {
          "output_type": "stream",
          "name": "stdout",
          "text": [
            "+-------+------------------+-------------------+\n",
            "|summary|           Outcome|         prediction|\n",
            "+-------+------------------+-------------------+\n",
            "|  count|              1446|               1446|\n",
            "|   mean|0.3478561549100968|0.26348547717842324|\n",
            "| stddev|0.4764548683537694| 0.4406758203959858|\n",
            "|    min|               0.0|                0.0|\n",
            "|    max|               1.0|                1.0|\n",
            "+-------+------------------+-------------------+\n",
            "\n"
          ]
        }
      ],
      "source": [
        "summary = model.summary\n",
        "summary.predictions.describe().show()"
      ]
    },
    {
      "cell_type": "markdown",
      "metadata": {
        "id": "DfaD_vzfQkah"
      },
      "source": [
        "### Part 3 - Evaluate the Model"
      ]
    },
    {
      "cell_type": "markdown",
      "metadata": {
        "id": "55Q5cBbPCEPd"
      },
      "source": [
        "After training the model, we will assess its accuracy and effectiveness using suitable metrics.\n",
        "\n",
        "Make predictions on testing data"
      ]
    },
    {
      "cell_type": "code",
      "execution_count": 27,
      "metadata": {
        "id": "CHC5Erq7Q4QN"
      },
      "outputs": [],
      "source": [
        "predictions = model.evaluate(testingData)"
      ]
    },
    {
      "cell_type": "markdown",
      "metadata": {
        "id": "74XAqdMeCEPd"
      },
      "source": [
        "Show the predictions"
      ]
    },
    {
      "cell_type": "code",
      "execution_count": 28,
      "metadata": {
        "colab": {
          "base_uri": "https://localhost:8080/"
        },
        "id": "UBltVqoNQ4cM",
        "outputId": "7a7746ba-17ff-46a0-f31c-c23bffcfacd5"
      },
      "outputs": [
        {
          "output_type": "stream",
          "name": "stdout",
          "text": [
            "+--------------------+-------+--------------------+--------------------+----------+\n",
            "|            features|Outcome|       rawPrediction|         probability|prediction|\n",
            "+--------------------+-------+--------------------+--------------------+----------+\n",
            "|[0.0,67.0,76.0,20...|      0|[2.26864766547351...|[0.90624695191016...|       0.0|\n",
            "|[0.0,74.0,52.0,10...|      0|[3.50118195312497...|[0.97072138068613...|       0.0|\n",
            "|[0.0,74.0,52.0,10...|      0|[3.50118195312497...|[0.97072138068613...|       0.0|\n",
            "|[0.0,78.0,88.0,29...|      0|[2.67406199674440...|[0.93547864095190...|       0.0|\n",
            "|[0.0,84.0,64.0,22...|      0|[2.39829416359169...|[0.91669713242720...|       0.0|\n",
            "|[0.0,84.0,82.0,31...|      0|[2.61115306027706...|[0.93157593147758...|       0.0|\n",
            "|[0.0,84.0,82.0,31...|      0|[2.61115306027706...|[0.93157593147758...|       0.0|\n",
            "|[0.0,86.0,68.0,32...|      0|[2.57473660615000...|[0.92921786615580...|       0.0|\n",
            "|[0.0,91.0,68.0,32...|      0|[2.14751320252778...|[0.89543616630293...|       0.0|\n",
            "|[0.0,91.0,80.0,20...|      0|[2.34371632894728...|[0.91243347024323...|       0.0|\n",
            "|[0.0,91.0,80.0,20...|      0|[2.34371632894728...|[0.91243347024323...|       0.0|\n",
            "|[0.0,93.0,60.0,25...|      0|[2.64145167658719...|[0.93348216043598...|       0.0|\n",
            "|[0.0,93.0,60.0,25...|      0|[2.64145167658719...|[0.93348216043598...|       0.0|\n",
            "|[0.0,93.0,60.0,25...|      0|[2.64145167658719...|[0.93348216043598...|       0.0|\n",
            "|[0.0,93.0,100.0,3...|      0|[1.00942744374412...|[0.73290808410939...|       0.0|\n",
            "|[0.0,94.0,69.0,20...|      0|[2.56236325631786...|[0.92839971123114...|       0.0|\n",
            "|[0.0,94.0,69.0,20...|      0|[2.56236325631786...|[0.92839971123114...|       0.0|\n",
            "|[0.0,94.0,70.0,27...|      0|[1.72286411362886...|[0.84849738453659...|       0.0|\n",
            "|[0.0,95.0,64.0,39...|      0|[1.54143800173394...|[0.82367367112912...|       0.0|\n",
            "|[0.0,95.0,64.0,39...|      0|[1.54143800173394...|[0.82367367112912...|       0.0|\n",
            "+--------------------+-------+--------------------+--------------------+----------+\n",
            "only showing top 20 rows\n",
            "\n"
          ]
        }
      ],
      "source": [
        "predictions.predictions.show()"
      ]
    },
    {
      "cell_type": "markdown",
      "metadata": {
        "id": "s095AouhCEPd"
      },
      "source": [
        "As you can see, `LogisticRegression` has added three additional columns as predictions:\n",
        "\n",
        "- **rawPrediction**: This is the raw prediction for each possible label and represents the raw output of the logistic regression classifier.\n",
        "- **probability**: This is the result of applying logistic regression to this raw prediction.\n",
        "- **prediction**: This is the corresponding class label that the model has predicted.\n"
      ]
    },
    {
      "cell_type": "markdown",
      "metadata": {
        "id": "400CdYq6CEPd"
      },
      "source": [
        "Use the `BinaryClassificationEvaluator` to evaluate the overall performance of the model"
      ]
    },
    {
      "cell_type": "code",
      "execution_count": 29,
      "metadata": {
        "colab": {
          "base_uri": "https://localhost:8080/"
        },
        "id": "A4BHCxCiQ4l-",
        "outputId": "e9f6d061-8dde-4afc-ce6b-7176792ee090"
      },
      "outputs": [
        {
          "output_type": "stream",
          "name": "stdout",
          "text": [
            "Accuracy: 0.8464\n"
          ]
        }
      ],
      "source": [
        "evaluator = BinaryClassificationEvaluator(rawPredictionCol=\"rawPrediction\", labelCol=\"Outcome\")\n",
        "accuracy = evaluator.evaluate(model.transform(testingData))\n",
        "print(f\"Accuracy: {accuracy:.4f}\")"
      ]
    },
    {
      "cell_type": "markdown",
      "metadata": {
        "id": "8tkxyEYeCEPd"
      },
      "source": [
        "### Part 4 - Persist the Model"
      ]
    },
    {
      "cell_type": "markdown",
      "metadata": {
        "id": "oXx-N39QCEPe"
      },
      "source": [
        "Save the model for future use, ensuring that it can be stored and retrieved later. This allows us to deploy the trained model in real-world applications and make predictions on new data.\n",
        "\n",
        "* Save the model as \"diabetes_model\""
      ]
    },
    {
      "cell_type": "code",
      "execution_count": 30,
      "metadata": {
        "id": "3a8PNIgrCEPe"
      },
      "outputs": [],
      "source": [
        "# Create folder to save model\n",
        "! mkdir -p diabetes_model\n",
        "\n",
        "# Persist the model to the path \"./diabetes_model/\"\n",
        "model.write().overwrite().save(\"./diabetes_model/\")"
      ]
    },
    {
      "cell_type": "markdown",
      "metadata": {
        "id": "pAEqWTpJCEPe"
      },
      "source": [
        "Load the model from the folder \"diabetes_model\""
      ]
    },
    {
      "cell_type": "code",
      "execution_count": 31,
      "metadata": {
        "id": "4zSA9_KCQ47W"
      },
      "outputs": [],
      "source": [
        "loaded_model = LogisticRegressionModel.load(\"./diabetes_model/\")"
      ]
    },
    {
      "cell_type": "markdown",
      "metadata": {
        "id": "7TIeehCICEPe"
      },
      "source": [
        "Read the csv file named `new_test.csv` into a Spark DataFrame called `new_test_df`"
      ]
    },
    {
      "cell_type": "code",
      "execution_count": 32,
      "metadata": {
        "id": "MBq2hq27RdHB"
      },
      "outputs": [],
      "source": [
        "new_test_df = spark.read.csv(\"./diabetes_dataset/new_test.csv\", header=True, inferSchema=True)"
      ]
    },
    {
      "cell_type": "markdown",
      "metadata": {
        "id": "VKfuWhMxCEPe"
      },
      "source": [
        "Display the structure of the `new_test_df` DataFrame, including details about all columns and their associated data types."
      ]
    },
    {
      "cell_type": "code",
      "execution_count": 33,
      "metadata": {
        "colab": {
          "base_uri": "https://localhost:8080/"
        },
        "id": "co8K0NZsRdQB",
        "outputId": "82b89d98-43e0-4d0c-d7ae-c91451f1014a"
      },
      "outputs": [
        {
          "output_type": "stream",
          "name": "stdout",
          "text": [
            "root\n",
            " |-- Pregnancies: integer (nullable = true)\n",
            " |-- Glucose: integer (nullable = true)\n",
            " |-- BloodPressure: integer (nullable = true)\n",
            " |-- SkinThickness: integer (nullable = true)\n",
            " |-- Insulin: integer (nullable = true)\n",
            " |-- BMI: double (nullable = true)\n",
            " |-- DiabetesPedigreeFunction: double (nullable = true)\n",
            " |-- Age: integer (nullable = true)\n",
            "\n"
          ]
        }
      ],
      "source": [
        "new_test_df.printSchema()"
      ]
    },
    {
      "cell_type": "markdown",
      "metadata": {
        "id": "XlxiCymnCEPf"
      },
      "source": [
        "Here we can see that we have similar input features as before. However, one thing to notice is that we don't have the output column `Outcome` because this dataset is unlabelled. We'll use the loaded model to predict diabetes on this data."
      ]
    },
    {
      "cell_type": "markdown",
      "metadata": {
        "id": "rkA9gFEHCEPf"
      },
      "source": [
        "Assemble the input columns into a single vector column `features`"
      ]
    },
    {
      "cell_type": "code",
      "execution_count": 34,
      "metadata": {
        "id": "J7jtGf4lRdaz"
      },
      "outputs": [],
      "source": [
        "new_test_transformed_df = assembler.transform(new_test_df)"
      ]
    },
    {
      "cell_type": "markdown",
      "metadata": {
        "id": "b2tq_AWYCEPf"
      },
      "source": [
        "Display the structure of the `new_test_transformed_df` DataFrame"
      ]
    },
    {
      "cell_type": "code",
      "execution_count": 35,
      "metadata": {
        "colab": {
          "base_uri": "https://localhost:8080/"
        },
        "id": "kd1glzOnRdkq",
        "outputId": "19eed1d3-5aaa-4078-8d28-ae97aa108cee"
      },
      "outputs": [
        {
          "output_type": "stream",
          "name": "stdout",
          "text": [
            "root\n",
            " |-- Pregnancies: integer (nullable = true)\n",
            " |-- Glucose: integer (nullable = true)\n",
            " |-- BloodPressure: integer (nullable = true)\n",
            " |-- SkinThickness: integer (nullable = true)\n",
            " |-- Insulin: integer (nullable = true)\n",
            " |-- BMI: double (nullable = true)\n",
            " |-- DiabetesPedigreeFunction: double (nullable = true)\n",
            " |-- Age: integer (nullable = true)\n",
            " |-- features: vector (nullable = true)\n",
            "\n"
          ]
        }
      ],
      "source": [
        "new_test_transformed_df.printSchema()"
      ]
    },
    {
      "cell_type": "markdown",
      "metadata": {
        "id": "M-oa8b_GCEPf"
      },
      "source": [
        "Here we have an additional `features` column as a vector."
      ]
    },
    {
      "cell_type": "markdown",
      "metadata": {
        "id": "tNddotHTCEPf"
      },
      "source": [
        "Use `loaded_model` to make predictions on test data"
      ]
    },
    {
      "cell_type": "code",
      "execution_count": 36,
      "metadata": {
        "colab": {
          "base_uri": "https://localhost:8080/"
        },
        "id": "40Dck7K_Rdxh",
        "outputId": "6c2857b2-4e26-42d1-ec0c-cfc3588edbe5"
      },
      "outputs": [
        {
          "output_type": "stream",
          "name": "stdout",
          "text": [
            "root\n",
            " |-- Pregnancies: integer (nullable = true)\n",
            " |-- Glucose: integer (nullable = true)\n",
            " |-- BloodPressure: integer (nullable = true)\n",
            " |-- SkinThickness: integer (nullable = true)\n",
            " |-- Insulin: integer (nullable = true)\n",
            " |-- BMI: double (nullable = true)\n",
            " |-- DiabetesPedigreeFunction: double (nullable = true)\n",
            " |-- Age: integer (nullable = true)\n",
            " |-- features: vector (nullable = true)\n",
            " |-- rawPrediction: vector (nullable = true)\n",
            " |-- probability: vector (nullable = true)\n",
            " |-- prediction: double (nullable = false)\n",
            "\n"
          ]
        }
      ],
      "source": [
        "predictions = loaded_model.transform(new_test_transformed_df)\n",
        "predictions.printSchema()"
      ]
    },
    {
      "cell_type": "markdown",
      "metadata": {
        "id": "7lrqJz29CEPf"
      },
      "source": [
        "Here we got an additional 3 columns: `rawPrediction`, `probability`, and `prediction`. The `prediction` column contains the main class level as either 0 or 1."
      ]
    },
    {
      "cell_type": "markdown",
      "metadata": {
        "id": "BK72V4waCEPg"
      },
      "source": [
        "Show the predictions\n",
        "\n",
        "* Display only the `features` column and `prediction`"
      ]
    },
    {
      "cell_type": "code",
      "execution_count": 37,
      "metadata": {
        "colab": {
          "base_uri": "https://localhost:8080/"
        },
        "id": "AHpfS2SjRd7s",
        "outputId": "a5516f19-0e5f-4b3a-f519-bfe48cf01abb"
      },
      "outputs": [
        {
          "output_type": "stream",
          "name": "stdout",
          "text": [
            "+--------------------+----------+\n",
            "|            features|prediction|\n",
            "+--------------------+----------+\n",
            "|[1.0,190.0,78.0,3...|       1.0|\n",
            "|[0.0,80.0,84.0,36...|       0.0|\n",
            "|[2.0,138.0,82.0,4...|       1.0|\n",
            "|[1.0,110.0,63.0,4...|       1.0|\n",
            "+--------------------+----------+\n",
            "\n"
          ]
        }
      ],
      "source": [
        "predictions.select(\"features\",\"prediction\").show()"
      ]
    },
    {
      "cell_type": "markdown",
      "metadata": {
        "id": "xzK-Qg_qCEPg"
      },
      "source": [
        "We have a total of four input features, and our model has made certain predictions on the input data. A prediction of 1 indicates that a patient is diabetic, while a prediction of 0 indicates that a patient is a non-diabetic.\n"
      ]
    },
    {
      "cell_type": "markdown",
      "metadata": {
        "id": "x7KUp7MmCEPg"
      },
      "source": [
        "### Stop Spark Session"
      ]
    },
    {
      "cell_type": "code",
      "execution_count": 38,
      "metadata": {
        "id": "K-V1tpnpCEPg"
      },
      "outputs": [],
      "source": [
        "spark.stop()"
      ]
    },
    {
      "cell_type": "markdown",
      "metadata": {
        "id": "vu7SJ_zQCEPg"
      },
      "source": [
        "## Change Log\n",
        "\n",
        "\n",
        "|  Date (YYYY-MM-DD) |  Version | Changed By  |  Change Description |\n",
        "|---|---|---|---|\n",
        "| 2024-08-03  | 0.1  | Pravin Regismond | Initial Version |"
      ]
    },
    {
      "cell_type": "markdown",
      "metadata": {
        "id": "9oReUWk3CEPg"
      },
      "source": [
        "Copyright © 2024 Pravin Regismond. All rights reserved."
      ]
    }
  ],
  "metadata": {
    "colab": {
      "provenance": []
    },
    "kernelspec": {
      "display_name": "Python 3",
      "name": "python3"
    },
    "language_info": {
      "codemirror_mode": {
        "name": "ipython",
        "version": 3
      },
      "file_extension": ".py",
      "mimetype": "text/x-python",
      "name": "python",
      "nbconvert_exporter": "python",
      "pygments_lexer": "ipython3",
      "version": "3.10.11"
    }
  },
  "nbformat": 4,
  "nbformat_minor": 0
}